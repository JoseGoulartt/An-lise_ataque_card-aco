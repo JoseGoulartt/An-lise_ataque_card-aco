{
  "nbformat": 4,
  "nbformat_minor": 0,
  "metadata": {
    "colab": {
      "provenance": [],
      "authorship_tag": "ABX9TyMR5vbEs7CK4Pjxj9HCOwmw",
      "include_colab_link": true
    },
    "kernelspec": {
      "name": "python3",
      "display_name": "Python 3"
    },
    "language_info": {
      "name": "python"
    }
  },
  "cells": [
    {
      "cell_type": "markdown",
      "metadata": {
        "id": "view-in-github",
        "colab_type": "text"
      },
      "source": [
        "<a href=\"https://colab.research.google.com/github/JoseGoulartt/An-lise_ataque_card-aco/blob/main/An%C3%A1lise_ataque_card%C3%ADaco.ipynb\" target=\"_parent\"><img src=\"https://colab.research.google.com/assets/colab-badge.svg\" alt=\"Open In Colab\"/></a>"
      ]
    },
    {
      "cell_type": "markdown",
      "source": [
        "# **Análise Base Ataque Cardíaco**"
      ],
      "metadata": {
        "id": "3Uc-kjls9IMd"
      }
    },
    {
      "cell_type": "markdown",
      "source": [
        "A base de dados é um conjunto de dados relacionados a pacientes com problemas cardíacos, com várias variáveis ​​de entrada (ou recursos) e uma variável de saída (ou rótulo) indicando se o paciente possui ou não uma doença cardíaca. As colunas na base de dados representam as seguintes informações:\n",
        "\n",
        "\n",
        "*   **age**: idade do paciente em anos (variável numérica)\n",
        "*   **sex**: gênero do paciente (1 para masculino, 0 para feminino) (variável categórica)\n",
        "*   **cp**: tipo de dor no peito relatada pelo paciente (variável categórica)\n",
        "*   **trtbps**: pressão arterial em repouso (em mm Hg) (variável numérica)\n",
        "*   **chol**: nível de colesterol sérico (em mg/dL) (variável numérica)\n",
        "*   **fbs**: nível de açúcar no sangue em jejum (> 120 mg/dL representa verdadeiro, 0 representa falso) (variável categórica)\n",
        "*   **restecg**: resultado do eletrocardiograma em repouso (variável categórica)\n",
        "*   **thalachh**: frequência cardíaca máxima alcançada (variável numérica)\n",
        "*   **exng**: angina induzida por exercício (1 representa verdadeiro, 0 representa falso) (variável categórica)\n",
        "*   **oldpeak**: depressão do segmento ST induzida por exercício em relação ao repouso (variável numérica)\n",
        "*  **slp**: inclinação do segmento ST de pico do exercício (variável categórica)\n",
        "*  **caa**: número de vasos principais coloridos por fluoroscopia (variável numérica)\n",
        "*   **thall**: resultado do teste de estresse com tálio (variável categórica)\n",
        "*   **output**: presença de doença cardíaca (1 representa verdadeiro, 0 representa falso) (variável categórica)\n"
      ],
      "metadata": {
        "id": "ex4JrqH39al0"
      }
    },
    {
      "cell_type": "markdown",
      "source": [
        "# **Dados**"
      ],
      "metadata": {
        "id": "iQEvuN-z9kZx"
      }
    },
    {
      "cell_type": "code",
      "source": [
        "import pandas as pd\n",
        "import matplotlib.pyplot as plt\n",
        "import seaborn as sns"
      ],
      "metadata": {
        "id": "jgAgzQTu9dAk"
      },
      "execution_count": null,
      "outputs": []
    },
    {
      "cell_type": "code",
      "source": [
        "df = pd.read_csv('/content/heart.csv')\n",
        "df.head()"
      ],
      "metadata": {
        "colab": {
          "base_uri": "https://localhost:8080/",
          "height": 304
        },
        "id": "SlG7hUrt9wN_",
        "outputId": "7da89ff2-1800-40bc-9c43-e25061a587ea"
      },
      "execution_count": null,
      "outputs": [
        {
          "output_type": "error",
          "ename": "FileNotFoundError",
          "evalue": "[Errno 2] No such file or directory: '/content/heart.csv'",
          "traceback": [
            "\u001b[0;31m---------------------------------------------------------------------------\u001b[0m",
            "\u001b[0;31mFileNotFoundError\u001b[0m                         Traceback (most recent call last)",
            "\u001b[0;32m<ipython-input-2-36d04255a7dd>\u001b[0m in \u001b[0;36m<cell line: 1>\u001b[0;34m()\u001b[0m\n\u001b[0;32m----> 1\u001b[0;31m \u001b[0mdf\u001b[0m \u001b[0;34m=\u001b[0m \u001b[0mpd\u001b[0m\u001b[0;34m.\u001b[0m\u001b[0mread_csv\u001b[0m\u001b[0;34m(\u001b[0m\u001b[0;34m'/content/heart.csv'\u001b[0m\u001b[0;34m)\u001b[0m\u001b[0;34m\u001b[0m\u001b[0;34m\u001b[0m\u001b[0m\n\u001b[0m\u001b[1;32m      2\u001b[0m \u001b[0mdf\u001b[0m\u001b[0;34m.\u001b[0m\u001b[0mhead\u001b[0m\u001b[0;34m(\u001b[0m\u001b[0;34m)\u001b[0m\u001b[0;34m\u001b[0m\u001b[0;34m\u001b[0m\u001b[0m\n",
            "\u001b[0;32m/usr/local/lib/python3.10/dist-packages/pandas/io/parsers/readers.py\u001b[0m in \u001b[0;36mread_csv\u001b[0;34m(filepath_or_buffer, sep, delimiter, header, names, index_col, usecols, dtype, engine, converters, true_values, false_values, skipinitialspace, skiprows, skipfooter, nrows, na_values, keep_default_na, na_filter, verbose, skip_blank_lines, parse_dates, infer_datetime_format, keep_date_col, date_parser, date_format, dayfirst, cache_dates, iterator, chunksize, compression, thousands, decimal, lineterminator, quotechar, quoting, doublequote, escapechar, comment, encoding, encoding_errors, dialect, on_bad_lines, delim_whitespace, low_memory, memory_map, float_precision, storage_options, dtype_backend)\u001b[0m\n\u001b[1;32m    910\u001b[0m     \u001b[0mkwds\u001b[0m\u001b[0;34m.\u001b[0m\u001b[0mupdate\u001b[0m\u001b[0;34m(\u001b[0m\u001b[0mkwds_defaults\u001b[0m\u001b[0;34m)\u001b[0m\u001b[0;34m\u001b[0m\u001b[0;34m\u001b[0m\u001b[0m\n\u001b[1;32m    911\u001b[0m \u001b[0;34m\u001b[0m\u001b[0m\n\u001b[0;32m--> 912\u001b[0;31m     \u001b[0;32mreturn\u001b[0m \u001b[0m_read\u001b[0m\u001b[0;34m(\u001b[0m\u001b[0mfilepath_or_buffer\u001b[0m\u001b[0;34m,\u001b[0m \u001b[0mkwds\u001b[0m\u001b[0;34m)\u001b[0m\u001b[0;34m\u001b[0m\u001b[0;34m\u001b[0m\u001b[0m\n\u001b[0m\u001b[1;32m    913\u001b[0m \u001b[0;34m\u001b[0m\u001b[0m\n\u001b[1;32m    914\u001b[0m \u001b[0;34m\u001b[0m\u001b[0m\n",
            "\u001b[0;32m/usr/local/lib/python3.10/dist-packages/pandas/io/parsers/readers.py\u001b[0m in \u001b[0;36m_read\u001b[0;34m(filepath_or_buffer, kwds)\u001b[0m\n\u001b[1;32m    575\u001b[0m \u001b[0;34m\u001b[0m\u001b[0m\n\u001b[1;32m    576\u001b[0m     \u001b[0;31m# Create the parser.\u001b[0m\u001b[0;34m\u001b[0m\u001b[0;34m\u001b[0m\u001b[0m\n\u001b[0;32m--> 577\u001b[0;31m     \u001b[0mparser\u001b[0m \u001b[0;34m=\u001b[0m \u001b[0mTextFileReader\u001b[0m\u001b[0;34m(\u001b[0m\u001b[0mfilepath_or_buffer\u001b[0m\u001b[0;34m,\u001b[0m \u001b[0;34m**\u001b[0m\u001b[0mkwds\u001b[0m\u001b[0;34m)\u001b[0m\u001b[0;34m\u001b[0m\u001b[0;34m\u001b[0m\u001b[0m\n\u001b[0m\u001b[1;32m    578\u001b[0m \u001b[0;34m\u001b[0m\u001b[0m\n\u001b[1;32m    579\u001b[0m     \u001b[0;32mif\u001b[0m \u001b[0mchunksize\u001b[0m \u001b[0;32mor\u001b[0m \u001b[0miterator\u001b[0m\u001b[0;34m:\u001b[0m\u001b[0;34m\u001b[0m\u001b[0;34m\u001b[0m\u001b[0m\n",
            "\u001b[0;32m/usr/local/lib/python3.10/dist-packages/pandas/io/parsers/readers.py\u001b[0m in \u001b[0;36m__init__\u001b[0;34m(self, f, engine, **kwds)\u001b[0m\n\u001b[1;32m   1405\u001b[0m \u001b[0;34m\u001b[0m\u001b[0m\n\u001b[1;32m   1406\u001b[0m         \u001b[0mself\u001b[0m\u001b[0;34m.\u001b[0m\u001b[0mhandles\u001b[0m\u001b[0;34m:\u001b[0m \u001b[0mIOHandles\u001b[0m \u001b[0;34m|\u001b[0m \u001b[0;32mNone\u001b[0m \u001b[0;34m=\u001b[0m \u001b[0;32mNone\u001b[0m\u001b[0;34m\u001b[0m\u001b[0;34m\u001b[0m\u001b[0m\n\u001b[0;32m-> 1407\u001b[0;31m         \u001b[0mself\u001b[0m\u001b[0;34m.\u001b[0m\u001b[0m_engine\u001b[0m \u001b[0;34m=\u001b[0m \u001b[0mself\u001b[0m\u001b[0;34m.\u001b[0m\u001b[0m_make_engine\u001b[0m\u001b[0;34m(\u001b[0m\u001b[0mf\u001b[0m\u001b[0;34m,\u001b[0m \u001b[0mself\u001b[0m\u001b[0;34m.\u001b[0m\u001b[0mengine\u001b[0m\u001b[0;34m)\u001b[0m\u001b[0;34m\u001b[0m\u001b[0;34m\u001b[0m\u001b[0m\n\u001b[0m\u001b[1;32m   1408\u001b[0m \u001b[0;34m\u001b[0m\u001b[0m\n\u001b[1;32m   1409\u001b[0m     \u001b[0;32mdef\u001b[0m \u001b[0mclose\u001b[0m\u001b[0;34m(\u001b[0m\u001b[0mself\u001b[0m\u001b[0;34m)\u001b[0m \u001b[0;34m->\u001b[0m \u001b[0;32mNone\u001b[0m\u001b[0;34m:\u001b[0m\u001b[0;34m\u001b[0m\u001b[0;34m\u001b[0m\u001b[0m\n",
            "\u001b[0;32m/usr/local/lib/python3.10/dist-packages/pandas/io/parsers/readers.py\u001b[0m in \u001b[0;36m_make_engine\u001b[0;34m(self, f, engine)\u001b[0m\n\u001b[1;32m   1659\u001b[0m                 \u001b[0;32mif\u001b[0m \u001b[0;34m\"b\"\u001b[0m \u001b[0;32mnot\u001b[0m \u001b[0;32min\u001b[0m \u001b[0mmode\u001b[0m\u001b[0;34m:\u001b[0m\u001b[0;34m\u001b[0m\u001b[0;34m\u001b[0m\u001b[0m\n\u001b[1;32m   1660\u001b[0m                     \u001b[0mmode\u001b[0m \u001b[0;34m+=\u001b[0m \u001b[0;34m\"b\"\u001b[0m\u001b[0;34m\u001b[0m\u001b[0;34m\u001b[0m\u001b[0m\n\u001b[0;32m-> 1661\u001b[0;31m             self.handles = get_handle(\n\u001b[0m\u001b[1;32m   1662\u001b[0m                 \u001b[0mf\u001b[0m\u001b[0;34m,\u001b[0m\u001b[0;34m\u001b[0m\u001b[0;34m\u001b[0m\u001b[0m\n\u001b[1;32m   1663\u001b[0m                 \u001b[0mmode\u001b[0m\u001b[0;34m,\u001b[0m\u001b[0;34m\u001b[0m\u001b[0;34m\u001b[0m\u001b[0m\n",
            "\u001b[0;32m/usr/local/lib/python3.10/dist-packages/pandas/io/common.py\u001b[0m in \u001b[0;36mget_handle\u001b[0;34m(path_or_buf, mode, encoding, compression, memory_map, is_text, errors, storage_options)\u001b[0m\n\u001b[1;32m    857\u001b[0m         \u001b[0;32mif\u001b[0m \u001b[0mioargs\u001b[0m\u001b[0;34m.\u001b[0m\u001b[0mencoding\u001b[0m \u001b[0;32mand\u001b[0m \u001b[0;34m\"b\"\u001b[0m \u001b[0;32mnot\u001b[0m \u001b[0;32min\u001b[0m \u001b[0mioargs\u001b[0m\u001b[0;34m.\u001b[0m\u001b[0mmode\u001b[0m\u001b[0;34m:\u001b[0m\u001b[0;34m\u001b[0m\u001b[0;34m\u001b[0m\u001b[0m\n\u001b[1;32m    858\u001b[0m             \u001b[0;31m# Encoding\u001b[0m\u001b[0;34m\u001b[0m\u001b[0;34m\u001b[0m\u001b[0m\n\u001b[0;32m--> 859\u001b[0;31m             handle = open(\n\u001b[0m\u001b[1;32m    860\u001b[0m                 \u001b[0mhandle\u001b[0m\u001b[0;34m,\u001b[0m\u001b[0;34m\u001b[0m\u001b[0;34m\u001b[0m\u001b[0m\n\u001b[1;32m    861\u001b[0m                 \u001b[0mioargs\u001b[0m\u001b[0;34m.\u001b[0m\u001b[0mmode\u001b[0m\u001b[0;34m,\u001b[0m\u001b[0;34m\u001b[0m\u001b[0;34m\u001b[0m\u001b[0m\n",
            "\u001b[0;31mFileNotFoundError\u001b[0m: [Errno 2] No such file or directory: '/content/heart.csv'"
          ]
        }
      ]
    },
    {
      "cell_type": "code",
      "source": [
        "tipos = df.dtypes\n",
        "tipos"
      ],
      "metadata": {
        "id": "VjLojHNG9wzW"
      },
      "execution_count": null,
      "outputs": []
    },
    {
      "cell_type": "code",
      "source": [
        "resumo_estatistico = df.describe()\n",
        "resumo_estatistico"
      ],
      "metadata": {
        "id": "tC6rsjt3-kxn"
      },
      "execution_count": null,
      "outputs": []
    },
    {
      "cell_type": "markdown",
      "source": [
        "# **Análise Univariada**"
      ],
      "metadata": {
        "id": "p88T3JxX-vFC"
      }
    },
    {
      "cell_type": "code",
      "source": [
        "# Separar variáveis numéricas manualmente\n",
        "vars_numericas = ['age', 'trtbps', 'chol', 'thalachh', 'oldpeak', 'caa']"
      ],
      "metadata": {
        "id": "IF7_LGX8-rq5"
      },
      "execution_count": null,
      "outputs": []
    },
    {
      "cell_type": "code",
      "source": [
        "# Plotar histograma para as variáveis numéricas\n",
        "for var in vars_numericas:\n",
        "    plt.hist(df[var], bins=10)\n",
        "    plt.title('Histograma de ' + var)\n",
        "    plt.xlabel(var)\n",
        "    plt.ylabel('Frequência')\n",
        "    plt.show()"
      ],
      "metadata": {
        "id": "3qg1xjK6-3yY"
      },
      "execution_count": null,
      "outputs": []
    },
    {
      "cell_type": "code",
      "source": [
        "# Variáveis categóricas\n",
        "variaveis_categoricas = ['sex', 'cp', 'fbs', 'restecg', 'exng', 'slp', 'caa', 'thall', 'output']\n",
        "# Plotar gráficos de frequência para as variáveis categóricas\n",
        "for var in variaveis_categoricas:\n",
        "    plt.figure(figsize=(8, 6))\n",
        "    df[var].value_counts().sort_index().plot(kind='bar', rot=0)\n",
        "    plt.title(f'Frequência de Valores para {var}')\n",
        "    plt.xlabel(var)\n",
        "    plt.ylabel('Frequência')\n",
        "    plt.show()"
      ],
      "metadata": {
        "id": "qg0edUSgC3zw"
      },
      "execution_count": null,
      "outputs": []
    },
    {
      "cell_type": "markdown",
      "source": [
        "# **Análise Bivariada**"
      ],
      "metadata": {
        "id": "qKeKd-HoBW1S"
      }
    },
    {
      "cell_type": "code",
      "source": [
        "# Variáveis numéricas\n",
        "variaveis_numericas = ['age', 'trtbps', 'chol', 'thalachh', 'oldpeak', 'caa']\n",
        "\n",
        "# Plotar gráfico de frequência para cada variável numérica, considerando o output como divisor\n",
        "for var in variaveis_numericas:\n",
        "    plt.figure(figsize=(8, 6))\n",
        "    df[df['output'] == 0][var].plot(kind='hist', alpha=0.5, label='F = 0')\n",
        "    df[df['output'] == 1][var].plot(kind='hist', alpha=0.5, label='M = 1')\n",
        "    plt.xlabel(var)\n",
        "    plt.ylabel('Frequência')\n",
        "    plt.title(f'Gráfico de Frequência para {var}')\n",
        "    plt.legend()\n",
        "    plt.show()"
      ],
      "metadata": {
        "id": "uNzSPx-O-6NY"
      },
      "execution_count": null,
      "outputs": []
    },
    {
      "cell_type": "code",
      "source": [
        "# Variáveis categóricas\n",
        "categorical_vars = ['sex', 'cp', 'fbs', 'restecg', 'exng', 'slp', 'caa', 'thall']\n",
        "\n",
        "# Plotar gráficos de frequência para as variáveis categóricas\n",
        "for var in categorical_vars:\n",
        "    plt.figure(figsize=(8, 6))\n",
        "    df.groupby([var, 'output']).size().unstack().plot(kind='bar', stacked=False)\n",
        "    plt.title(f'Frequência de {var} por output')\n",
        "    plt.xlabel(var)\n",
        "    plt.ylabel('Frequência')\n",
        "    plt.legend(['No Disease', 'Disease'])\n",
        "    plt.show()\n"
      ],
      "metadata": {
        "id": "DJnu-5W0DEjm"
      },
      "execution_count": null,
      "outputs": []
    },
    {
      "cell_type": "code",
      "source": [
        "# Cria o heatmap de correlação\n",
        "corr = df.corr() # Substitua \"df\" pelo nome do seu dataframe\n",
        "plt.figure(figsize=(10, 8)) # Define o tamanho da figura\n",
        "sns.heatmap(corr, annot=True, cmap='coolwarm') # Configura o heatmap\n",
        "plt.title('Heatmap de Correlação') # Define o título do gráfico\n",
        "plt.show() # Exibe o gráfico"
      ],
      "metadata": {
        "id": "gWRUNMJcIakW"
      },
      "execution_count": null,
      "outputs": []
    },
    {
      "cell_type": "markdown",
      "source": [
        "# **Perguntas/Respostas**\n",
        "**A)** Qual é a distribuição de idade dos pacientes que sofreram ataque cardíaco?\n",
        "\n",
        "**B)** Existe alguma diferença na distribuição de idade entre pacientes do sexo masculino e feminino que sofreram ataque cardíaco?\n",
        "\n",
        "**C)** Quais são os fatores de risco mais comuns para ataques cardíacos, com base nas variáveis disponíveis?\n",
        "\n",
        "**D)** Existe uma correlação entre a pressão arterial sistólica (trtbps) e o colesterol (chol) dos pacientes?\n",
        "\n",
        "**E)** Como a frequência cardíaca máxima alcançada (thalachh) está relacionada com a presença de dor no peito (cp)?\n",
        "\n",
        "**F)** É possível identificar um padrão de comportamento de exercício induzido por angina (exng) em relação à presença de doença cardíaca (output)?\n",
        "\n",
        "**G)** Como os níveis de depressão do segmento ST induzida pelo exercício (oldpeak) estão relacionados com a presença de doença cardíaca?\n",
        "\n",
        "**H)** Qual é a distribuição da presença de doença cardíaca (output) em relação aos diferentes tipos de dor no peito (cp)?\n",
        "\n",
        "**I)** Existe alguma diferença na distribuição da presença de doença cardíaca em pacientes com e sem histórico de açúcar elevado no sangue (fbs)?\n",
        "\n",
        "**J)** Como as variáveis categóricas, como sexo, número de vasos principais coloridos (caa), e tipo de deficiência thalassemia (thall), estão relacionadas com a presença de doença cardíaca?"
      ],
      "metadata": {
        "id": "4OGDgtdaMV9v"
      }
    },
    {
      "cell_type": "code",
      "source": [],
      "metadata": {
        "id": "u-dNHJIrJjbS"
      },
      "execution_count": null,
      "outputs": []
    }
  ]
}